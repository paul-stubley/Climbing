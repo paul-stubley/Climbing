{
 "cells": [
  {
   "cell_type": "code",
   "execution_count": 188,
   "metadata": {},
   "outputs": [],
   "source": [
    "import numpy as np\n",
    "from random import sample\n",
    "\n"
   ]
  },
  {
   "cell_type": "code",
   "execution_count": 377,
   "metadata": {},
   "outputs": [],
   "source": [
    "import pandas as pd\n",
    "import matplotlib.pyplot as plt\n",
    "\n",
    "# Create the possible sports grade list\n",
    "GRADES_LIST = [['4'],['4+'],['5'],['5+']]+[[i+l,i+l+'+'] for i in ['6','7','8'] for l in ['a','b','c']]\n",
    "GRADES_LIST = [val for sublist in GRADES_LIST for val in sublist]\n",
    "\n",
    "class Crag():\n",
    "    '''This class covers *crag* objects, the cliff which houses the routes.\n",
    "    \n",
    "    Attributes:\n",
    "        name\n",
    "        latitude\n",
    "        longitude\n",
    "        rock_type\n",
    "        route_list  - Adjusted automatically by creating a new route.\n",
    "        route_count - Adjusted automatically by creating a new route.\n",
    "    Methods:\n",
    "        plot_crag_summary\n",
    "    '''\n",
    "    def __init__(self, name, lat='Unknown', long='Unknown', rock_type='Unknown'):\n",
    "        '''Initialise the object'''\n",
    "        self.name = name\n",
    "        self.lat  = lat\n",
    "        self.long = long\n",
    "        self.rock_type = rock_type\n",
    "        self.route_dict = {}\n",
    "        self.route_count = 0\n",
    "        \n",
    "    def plot_crag_summary(self):\n",
    "        '''This creates a histogram of the grades at this crag'''\n",
    "        # Create df from GRADE_LIST\n",
    "        empty_df = pd.DataFrame(GRADES_LIST).set_index(0)\n",
    "        empty_df['count']=0\n",
    "\n",
    "        # Add counts into it\n",
    "        grade_counts = pd.Series(item[1].grade for item in cheddar.route_dict.items()).value_counts()\n",
    "\n",
    "        for i in grade_counts.items():\n",
    "            empty_df.loc[i[0],'count']=i[1]\n",
    "        empty_df.plot.bar()\n",
    "        \n",
    "        plt.axis('off')\n",
    "        ;\n",
    "\n",
    "    def __repr__(self):\n",
    "        '''This magic method defines how Crag objects present themselves'''\n",
    "        return 'Name: {} | Location: {},{}'.format(self.name,self.lat,self.long)\n",
    "    \n",
    "        "
   ]
  },
  {
   "cell_type": "code",
   "execution_count": 378,
   "metadata": {},
   "outputs": [],
   "source": [
    "class Route():\n",
    "    '''This class covers *route* objects, the individual routes at each crag.\n",
    "    Attributes:\n",
    "        name (str)\n",
    "        crag (Crag) - Note, this is a crag object, not a string\n",
    "        height (float) - height of route in metres\n",
    "        grade\n",
    "        bolts - Number of bolts on the route\n",
    "        notes - Optional free text description of route\n",
    "    Methods:\n",
    "        add_to_crag() - Appends this route to the crag\n",
    "    '''\n",
    "    def __init__(self, name, crag, height, grade, bolts='Unknown', notes=''):\n",
    "        '''Initialise route and add to crag, iff crag doesn't exist - create it'''\n",
    "        self.name = name\n",
    "        self.crag = crag\n",
    "        self.height = height\n",
    "        self.grade = grade\n",
    "        self.bolts = bolts\n",
    "        self.notes = notes\n",
    "        self._add_to_crag()\n",
    "        \n",
    "    def _add_to_crag(self):\n",
    "        '''Adds this route to the associated crag object'''\n",
    "        self.crag.route_dict[self.name]=self\n",
    "        \n",
    "    def __repr__(self):\n",
    "        '''This magic method defines how Route objects present themselves'''\n",
    "        return 'Name: {} | Grade: {}'.format(self.name,self.grade)\n",
    "            \n",
    "            "
   ]
  },
  {
   "cell_type": "code",
   "execution_count": 379,
   "metadata": {},
   "outputs": [],
   "source": [
    "cheddar = Crag('Cheddar', 51.2864, 2.7603, 'Limestone')"
   ]
  },
  {
   "cell_type": "code",
   "execution_count": 380,
   "metadata": {},
   "outputs": [],
   "source": [
    "# Add some example routes to the crag, with different grades\n",
    "routes = []\n",
    "for i in range(10):\n",
    "    routes.append(Route('FunnyRouteName{}'.format(i),cheddar,12+i/5,sample(GRADES_LIST, 1)[0]))"
   ]
  },
  {
   "cell_type": "code",
   "execution_count": 381,
   "metadata": {},
   "outputs": [
    {
     "data": {
      "text/plain": [
       "{'FunnyRouteName0': Name: FunnyRouteName0 | Grade: 7b+,\n",
       " 'FunnyRouteName1': Name: FunnyRouteName1 | Grade: 7a,\n",
       " 'FunnyRouteName2': Name: FunnyRouteName2 | Grade: 6b+,\n",
       " 'FunnyRouteName3': Name: FunnyRouteName3 | Grade: 6a,\n",
       " 'FunnyRouteName4': Name: FunnyRouteName4 | Grade: 4,\n",
       " 'FunnyRouteName5': Name: FunnyRouteName5 | Grade: 8a+,\n",
       " 'FunnyRouteName6': Name: FunnyRouteName6 | Grade: 8b,\n",
       " 'FunnyRouteName7': Name: FunnyRouteName7 | Grade: 7a,\n",
       " 'FunnyRouteName8': Name: FunnyRouteName8 | Grade: 4,\n",
       " 'FunnyRouteName9': Name: FunnyRouteName9 | Grade: 8c}"
      ]
     },
     "execution_count": 381,
     "metadata": {},
     "output_type": "execute_result"
    }
   ],
   "source": [
    "cheddar.route_dict"
   ]
  },
  {
   "cell_type": "code",
   "execution_count": 382,
   "metadata": {},
   "outputs": [
    {
     "data": {
      "image/png": "[encoded data removed]",
      "text/plain": [
       "<Figure size 432x288 with 1 Axes>"
      ]
     },
     "metadata": {
      "needs_background": "light"
     },
     "output_type": "display_data"
    }
   ],
   "source": [
    "cheddar.plot_crag_summary()"
   ]
  },
  {
   "cell_type": "code",
   "execution_count": null,
   "metadata": {},
   "outputs": [],
   "source": []
  },
  {
   "cell_type": "code",
   "execution_count": 343,
   "metadata": {},
   "outputs": [],
   "source": []
  },
  {
   "cell_type": "code",
   "execution_count": 352,
   "metadata": {},
   "outputs": [
    {
     "data": {
      "image/png": "[encoded data removed]",
      "text/plain": [
       "<Figure size 432x288 with 1 Axes>"
      ]
     },
     "metadata": {
      "needs_background": "light"
     },
     "output_type": "display_data"
    }
   ],
   "source": []
  },
  {
   "cell_type": "code",
   "execution_count": 346,
   "metadata": {},
   "outputs": [
    {
     "data": {
      "text/html": [
       "<div>\n",
       "<style scoped>\n",
       "    .dataframe tbody tr th:only-of-type {\n",
       "        vertical-align: middle;\n",
       "    }\n",
       "\n",
       "    .dataframe tbody tr th {\n",
       "        vertical-align: top;\n",
       "    }\n",
       "\n",
       "    .dataframe thead th {\n",
       "        text-align: right;\n",
       "    }\n",
       "</style>\n",
       "<table border=\"1\" class=\"dataframe\">\n",
       "  <thead>\n",
       "    <tr style=\"text-align: right;\">\n",
       "      <th></th>\n",
       "      <th>count</th>\n",
       "    </tr>\n",
       "    <tr>\n",
       "      <th>0</th>\n",
       "      <th></th>\n",
       "    </tr>\n",
       "  </thead>\n",
       "  <tbody>\n",
       "    <tr>\n",
       "      <th>4</th>\n",
       "      <td>1</td>\n",
       "    </tr>\n",
       "    <tr>\n",
       "      <th>4+</th>\n",
       "      <td>1</td>\n",
       "    </tr>\n",
       "    <tr>\n",
       "      <th>5</th>\n",
       "      <td>2</td>\n",
       "    </tr>\n",
       "    <tr>\n",
       "      <th>5+</th>\n",
       "      <td>2</td>\n",
       "    </tr>\n",
       "    <tr>\n",
       "      <th>6a</th>\n",
       "      <td>0</td>\n",
       "    </tr>\n",
       "    <tr>\n",
       "      <th>6a+</th>\n",
       "      <td>0</td>\n",
       "    </tr>\n",
       "    <tr>\n",
       "      <th>6b</th>\n",
       "      <td>0</td>\n",
       "    </tr>\n",
       "    <tr>\n",
       "      <th>6b+</th>\n",
       "      <td>0</td>\n",
       "    </tr>\n",
       "    <tr>\n",
       "      <th>6c</th>\n",
       "      <td>3</td>\n",
       "    </tr>\n",
       "    <tr>\n",
       "      <th>6c+</th>\n",
       "      <td>0</td>\n",
       "    </tr>\n",
       "    <tr>\n",
       "      <th>7a</th>\n",
       "      <td>0</td>\n",
       "    </tr>\n",
       "    <tr>\n",
       "      <th>7a+</th>\n",
       "      <td>0</td>\n",
       "    </tr>\n",
       "    <tr>\n",
       "      <th>7b</th>\n",
       "      <td>0</td>\n",
       "    </tr>\n",
       "    <tr>\n",
       "      <th>7b+</th>\n",
       "      <td>1</td>\n",
       "    </tr>\n",
       "    <tr>\n",
       "      <th>7c</th>\n",
       "      <td>0</td>\n",
       "    </tr>\n",
       "    <tr>\n",
       "      <th>7c+</th>\n",
       "      <td>0</td>\n",
       "    </tr>\n",
       "    <tr>\n",
       "      <th>8a</th>\n",
       "      <td>0</td>\n",
       "    </tr>\n",
       "    <tr>\n",
       "      <th>8a+</th>\n",
       "      <td>0</td>\n",
       "    </tr>\n",
       "    <tr>\n",
       "      <th>8b</th>\n",
       "      <td>0</td>\n",
       "    </tr>\n",
       "    <tr>\n",
       "      <th>8b+</th>\n",
       "      <td>0</td>\n",
       "    </tr>\n",
       "    <tr>\n",
       "      <th>8c</th>\n",
       "      <td>0</td>\n",
       "    </tr>\n",
       "    <tr>\n",
       "      <th>8c+</th>\n",
       "      <td>0</td>\n",
       "    </tr>\n",
       "  </tbody>\n",
       "</table>\n",
       "</div>"
      ],
      "text/plain": [
       "     count\n",
       "0         \n",
       "4        1\n",
       "4+       1\n",
       "5        2\n",
       "5+       2\n",
       "6a       0\n",
       "6a+      0\n",
       "6b       0\n",
       "6b+      0\n",
       "6c       3\n",
       "6c+      0\n",
       "7a       0\n",
       "7a+      0\n",
       "7b       0\n",
       "7b+      1\n",
       "7c       0\n",
       "7c+      0\n",
       "8a       0\n",
       "8a+      0\n",
       "8b       0\n",
       "8b+      0\n",
       "8c       0\n",
       "8c+      0"
      ]
     },
     "execution_count": 346,
     "metadata": {},
     "output_type": "execute_result"
    }
   ],
   "source": [
    "empty_df"
   ]
  },
  {
   "cell_type": "code",
   "execution_count": null,
   "metadata": {},
   "outputs": [],
   "source": []
  }
 ],
 "metadata": {
  "kernelspec": {
   "display_name": "Python 3",
   "language": "python",
   "name": "python3"
  },
  "language_info": {
   "codemirror_mode": {
    "name": "ipython",
    "version": 3
   },
   "file_extension": ".py",
   "mimetype": "text/x-python",
   "name": "python",
   "nbconvert_exporter": "python",
   "pygments_lexer": "ipython3",
   "version": "3.7.3"
  }
 },
 "nbformat": 4,
 "nbformat_minor": 2
}

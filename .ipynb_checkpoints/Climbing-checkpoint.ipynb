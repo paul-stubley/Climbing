{
 "cells": [
  {
   "cell_type": "code",
   "execution_count": 5,
   "metadata": {},
   "outputs": [],
   "source": [
    "class Crag():\n",
    "    '''This class covers *crag* objects\n",
    "    \n",
    "    Attributes:\n",
    "        name\n",
    "        latitude\n",
    "        longitude\n",
    "        rock_type\n",
    "        route_list  - Adjusted automatically by creating a new route.\n",
    "        route_count - Adjusted automatically by creating a new route.\n",
    "    Methods:\n",
    "        plot_crag_summary\n",
    "    '''\n",
    "    def __init__(self, name, lat, long, rock_type='Unknown'):\n",
    "        self.name = name\n",
    "        self.lat  = lat\n",
    "        self.long = long\n",
    "        self.rock_type = rock_type\n",
    "        self.route_list = []\n",
    "        self.route_count = 0\n",
    "\n",
    "        \n",
    "    \n",
    "        "
   ]
  },
  {
   "cell_type": "code",
   "execution_count": 6,
   "metadata": {},
   "outputs": [],
   "source": [
    "cheddar = Crag('Cheddar', 51.2864, 2.7603, 'Limestone')"
   ]
  },
  {
   "cell_type": "code",
   "execution_count": 8,
   "metadata": {},
   "outputs": [
    {
     "data": {
      "text/plain": [
       "51.2864"
      ]
     },
     "execution_count": 8,
     "metadata": {},
     "output_type": "execute_result"
    }
   ],
   "source": []
  },
  {
   "cell_type": "code",
   "execution_count": null,
   "metadata": {},
   "outputs": [],
   "source": []
  }
 ],
 "metadata": {
  "kernelspec": {
   "display_name": "Python 3",
   "language": "python",
   "name": "python3"
  },
  "language_info": {
   "codemirror_mode": {
    "name": "ipython",
    "version": 3
   },
   "file_extension": ".py",
   "mimetype": "text/x-python",
   "name": "python",
   "nbconvert_exporter": "python",
   "pygments_lexer": "ipython3",
   "version": "3.7.3"
  }
 },
 "nbformat": 4,
 "nbformat_minor": 2
}

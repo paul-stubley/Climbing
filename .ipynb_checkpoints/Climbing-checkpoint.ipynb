{
 "cells": [
  {
   "cell_type": "code",
   "execution_count": 1,
   "metadata": {},
   "outputs": [
    {
     "ename": "ModuleNotFoundError",
     "evalue": "No module named 'Constants'",
     "output_type": "error",
     "traceback": [
      "\u001b[0;31m---------------------------------------------------------------------------\u001b[0m",
      "\u001b[0;31mModuleNotFoundError\u001b[0m                       Traceback (most recent call last)",
      "\u001b[0;32m<ipython-input-1-74536b307829>\u001b[0m in \u001b[0;36m<module>\u001b[0;34m\u001b[0m\n\u001b[1;32m      1\u001b[0m \u001b[0;32mimport\u001b[0m \u001b[0mnumpy\u001b[0m \u001b[0;32mas\u001b[0m \u001b[0mnp\u001b[0m\u001b[0;34m\u001b[0m\u001b[0;34m\u001b[0m\u001b[0m\n\u001b[1;32m      2\u001b[0m \u001b[0;32mimport\u001b[0m \u001b[0mrandom\u001b[0m\u001b[0;34m\u001b[0m\u001b[0;34m\u001b[0m\u001b[0m\n\u001b[0;32m----> 3\u001b[0;31m \u001b[0;32mfrom\u001b[0m \u001b[0mConstants\u001b[0m \u001b[0;32mimport\u001b[0m \u001b[0;34m*\u001b[0m\u001b[0;34m\u001b[0m\u001b[0;34m\u001b[0m\u001b[0m\n\u001b[0m\u001b[1;32m      4\u001b[0m \u001b[0;32mfrom\u001b[0m \u001b[0mCrag\u001b[0m \u001b[0;32mimport\u001b[0m \u001b[0mCrag\u001b[0m\u001b[0;34m\u001b[0m\u001b[0;34m\u001b[0m\u001b[0m\n\u001b[1;32m      5\u001b[0m \u001b[0;32mfrom\u001b[0m \u001b[0mClimber\u001b[0m \u001b[0;32mimport\u001b[0m \u001b[0mClimber\u001b[0m\u001b[0;34m\u001b[0m\u001b[0;34m\u001b[0m\u001b[0m\n",
      "\u001b[0;31mModuleNotFoundError\u001b[0m: No module named 'Constants'"
     ]
    }
   ],
   "source": [
    "import numpy as np\n",
    "import random\n",
    "from climbing_Constants import *\n",
    "from Crag import Crag\n",
    "from Climber import Climber\n",
    "from Route import Route"
   ]
  },
  {
   "cell_type": "code",
   "execution_count": null,
   "metadata": {},
   "outputs": [],
   "source": [
    "# Create a crag\n",
    "cheddar = Crag('Cheddar', 51.2864, 2.7603, 'Limestone')\n",
    "# Add some example routes to the crag, with different (random) grades\n",
    "routes = []\n",
    "random.seed(42) # Set seed to get same distribution each time\n",
    "for i in range(10):\n",
    "    routes.append(Route('FunnyRouteName{}'.format(i),cheddar,12+i/5,random.sample(GRADES_LIST, 1)[0]))\n",
    "cheddar.plot_crag_summary()"
   ]
  },
  {
   "cell_type": "code",
   "execution_count": null,
   "metadata": {
    "scrolled": true
   },
   "outputs": [],
   "source": [
    "paul = Climber('Paul','12/07/1990')"
   ]
  },
  {
   "cell_type": "code",
   "execution_count": null,
   "metadata": {
    "scrolled": true
   },
   "outputs": [],
   "source": [
    "# One week\n",
    "paul.add_climb(routes[0],'02/06/2019','Flash')\n",
    "paul.add_climb(routes[1],'02/06/2019','Attempt')\n",
    "paul.add_climb(routes[2],'02/06/2019','Dogged')\n",
    "# Next week\n",
    "paul.add_climb(routes[1],'09/06/2019','Top')\n",
    "paul.add_climb(routes[2],'09/06/2019','Top')\n",
    "# Week after\n",
    "paul.add_climb(routes[3],'13/06/2019','Attempt')\n",
    "paul.add_climb(routes[4],'13/06/2019','Flash')"
   ]
  },
  {
   "cell_type": "code",
   "execution_count": null,
   "metadata": {},
   "outputs": [],
   "source": [
    "paul.plot_progress()"
   ]
  },
  {
   "cell_type": "code",
   "execution_count": null,
   "metadata": {},
   "outputs": [],
   "source": []
  }
 ],
 "metadata": {
  "kernelspec": {
   "display_name": "Python 3",
   "language": "python",
   "name": "python3"
  },
  "language_info": {
   "codemirror_mode": {
    "name": "ipython",
    "version": 3
   },
   "file_extension": ".py",
   "mimetype": "text/x-python",
   "name": "python",
   "nbconvert_exporter": "python",
   "pygments_lexer": "ipython3",
   "version": "3.7.3"
  }
 },
 "nbformat": 4,
 "nbformat_minor": 2
}
